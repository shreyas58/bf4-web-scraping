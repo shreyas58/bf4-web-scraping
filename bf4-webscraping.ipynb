{
 "cells": [
  {
   "cell_type": "code",
   "execution_count": 1,
   "metadata": {},
   "outputs": [],
   "source": [
    "import bs4\n",
    "import pandas as pd\n",
    "from datetime import datetime\n",
    "import re\n",
    "\n",
    "from urllib.request import urlopen as uReq\n",
    "from bs4 import BeautifulSoup as soup"
   ]
  },
  {
   "cell_type": "code",
   "execution_count": 2,
   "metadata": {
    "scrolled": true
   },
   "outputs": [],
   "source": [
    "names = []\n",
    "threshold = 10\n",
    "\n",
    "my_url = 'https://jsonmock.hackerrank.com/api/article_users?page='\n",
    "\n",
    "for i in range(1, 100):\n",
    "    if len(names) < 10:\n",
    "        url = my_url + str(i)\n",
    "\n",
    "        uClient = uReq(url)\n",
    "        page_html = uClient.read()\n",
    "        uClient.close()\n",
    "\n",
    "        page_soup = str((page_html, \"html.parser\"))\n",
    "\n",
    "        tags = re.findall('\\{\"id\":.*?\\}', page_soup)\n",
    "\n",
    "        for tag in tags:\n",
    "            sub_count = int(re.search('submission_count\\\":(.*?),', tag).group(1))\n",
    "            user_name = re.search('\\\"username\\\":\\\"(.*?)\\\",', tag).group(1)\n",
    "\n",
    "            if sub_count > threshold:\n",
    "                names.append(user_name)\n",
    "    else:\n",
    "        break"
   ]
  },
  {
   "cell_type": "code",
   "execution_count": 3,
   "metadata": {},
   "outputs": [
    {
     "data": {
      "text/plain": [
       "['epaga',\n",
       " 'panny',\n",
       " 'olalonde',\n",
       " 'WisNorCan',\n",
       " 'dmmalam',\n",
       " 'replicatorblog',\n",
       " 'vladikoff',\n",
       " 'mpweiher',\n",
       " 'coloneltcb',\n",
       " 'guelo']"
      ]
     },
     "execution_count": 3,
     "metadata": {},
     "output_type": "execute_result"
    }
   ],
   "source": [
    "names"
   ]
  }
 ],
 "metadata": {
  "kernelspec": {
   "display_name": "Python 3",
   "language": "python",
   "name": "python3"
  },
  "language_info": {
   "codemirror_mode": {
    "name": "ipython",
    "version": 3
   },
   "file_extension": ".py",
   "mimetype": "text/x-python",
   "name": "python",
   "nbconvert_exporter": "python",
   "pygments_lexer": "ipython3",
   "version": "3.8.5"
  }
 },
 "nbformat": 4,
 "nbformat_minor": 4
}
